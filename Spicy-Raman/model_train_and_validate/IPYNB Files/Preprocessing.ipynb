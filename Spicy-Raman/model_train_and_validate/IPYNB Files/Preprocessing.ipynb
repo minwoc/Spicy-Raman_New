{
 "cells": [
  {
   "cell_type": "code",
   "execution_count": 31,
   "metadata": {},
   "outputs": [],
   "source": [
    "import numpy as np\n",
    "import matplotlib.pyplot as plt\n",
    "# %matplotlib agg\n",
    "import pandas as pd\n",
    "import os"
   ]
  },
  {
   "cell_type": "markdown",
   "metadata": {},
   "source": [
    "Graph and save the data for each .txt file as a .png file"
   ]
  },
  {
   "cell_type": "code",
   "execution_count": 32,
   "metadata": {},
   "outputs": [],
   "source": [
    "def graph_and_save (data, name):\n",
    "    y = data.iloc[:,1]\n",
    "    x = data.iloc[:,0]\n",
    "    fig = plt.figure()\n",
    "    ax = plt.subplot(111)\n",
    "    ax.plot(x, y, label='$y = numbers')\n",
    "    ax.legend()\n",
    "    fig.savefig('Pre_Augmented_Raman_Pictures/' + name)\n",
    "    #print(type(fig))\n",
    "    plt.close('all')"
   ]
  },
  {
   "cell_type": "markdown",
   "metadata": {},
   "source": [
    "This block will read all of the training/testing data in a file and store the resulting images into the folder \"Pre_Augmented_Raman_Pictures\". "
   ]
  },
  {
   "cell_type": "code",
   "execution_count": 33,
   "metadata": {
    "scrolled": true
   },
   "outputs": [
    {
     "name": "stdout",
     "output_type": "stream",
     "text": [
      "fluorescent\n",
      "nylon\n",
      "polyamide\n",
      "polyethylene\n",
      "unknown\n"
     ]
    }
   ],
   "source": [
    "os.listdir()\n",
    "with os.scandir('Raman_Data') as entries:\n",
    "    for entry in entries:\n",
    "        foldername = entry.name\n",
    "        print(foldername)\n",
    "        with os.scandir('Raman_Data/' + foldername) as entries:\n",
    "            for entry in entries:\n",
    "                filename = entry.name\n",
    "                data = pd.read_csv('Raman_Data/' + foldername + '/' + filename , sep='\\s+')\n",
    "                name = filename + \"_\" + foldername + \".png\"\n",
    "                graph_and_save(data, name)"
   ]
  },
  {
   "cell_type": "code",
   "execution_count": 34,
   "metadata": {},
   "outputs": [],
   "source": [
    "def preprocessing(big_folder):\n",
    "    os.listdir()\n",
    "    with os.scandir(big_folder) as entries:\n",
    "        for entry in entries:\n",
    "            foldername = entry.name\n",
    "            print(foldername)\n",
    "            with os.scandir(big_folder + '/' + foldername) as entries:\n",
    "                for entry in entries:\n",
    "                    filename = entry.name\n",
    "                    data = pd.read_csv(big_folder + '/' + foldername + '/' + filename , sep='\\s+')\n",
    "                    name = filename + \"_\" + foldername + \".png\"\n",
    "                    graph_and_save(data, name)"
   ]
  },
  {
   "cell_type": "code",
   "execution_count": 36,
   "metadata": {},
   "outputs": [
    {
     "name": "stdout",
     "output_type": "stream",
     "text": [
      "fluorescent\n",
      "nylon\n",
      "polyamide\n",
      "polyethylene\n",
      "unknown\n"
     ]
    }
   ],
   "source": [
    "preprocessing('Raman_Data')"
   ]
  },
  {
   "cell_type": "code",
   "execution_count": null,
   "metadata": {},
   "outputs": [],
   "source": []
  }
 ],
 "metadata": {
  "kernelspec": {
   "display_name": "Python 3",
   "language": "python",
   "name": "python3"
  },
  "language_info": {
   "codemirror_mode": {
    "name": "ipython",
    "version": 3
   },
   "file_extension": ".py",
   "mimetype": "text/x-python",
   "name": "python",
   "nbconvert_exporter": "python",
   "pygments_lexer": "ipython3",
   "version": "3.7.6"
  }
 },
 "nbformat": 4,
 "nbformat_minor": 2
}
