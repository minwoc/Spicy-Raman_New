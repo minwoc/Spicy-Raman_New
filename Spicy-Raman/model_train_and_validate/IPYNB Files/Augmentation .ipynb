{
 "cells": [
  {
   "cell_type": "markdown",
   "metadata": {},
   "source": [
    "Augmentation: The datapoints for training are too few right now so we will follow \"How to Configure Image Data Augmentation in Keras\" by Jason Brownlee to augment the dataset. "
   ]
  },
  {
   "cell_type": "code",
   "execution_count": 39,
   "metadata": {},
   "outputs": [],
   "source": [
    "from numpy import expand_dims\n",
    "from keras.preprocessing.image import load_img\n",
    "from keras.preprocessing.image import img_to_array\n",
    "from keras.preprocessing.image import ImageDataGenerator\n",
    "from matplotlib import pyplot\n",
    "from matplotlib import image\n",
    "%matplotlib agg\n",
    "import os"
   ]
  },
  {
   "cell_type": "code",
   "execution_count": 54,
   "metadata": {
    "scrolled": true
   },
   "outputs": [],
   "source": [
    "# load the image\n",
    "img = load_img('Pre_Augmented_Raman_Pictures/20191004 Set3Sample3_2 1_.txt_unknown.png')\n",
    "# convert to numpy array\n",
    "data = img_to_array(img)\n",
    "# expand dimension to one sample\n",
    "samples = expand_dims(data, 0)\n",
    "# create image data augmentation generator\n",
    "datagen = ImageDataGenerator(zoom_range=[0.5,1.0])\n",
    "# prepare iterator\n",
    "it = datagen.flow(samples, batch_size=1)\n",
    "# generate samples and plot\n",
    "for i in range(9):\n",
    "    batch = it.next()\n",
    "    # convert to unsigned integers for viewing\n",
    "    current_image = batch[0].astype('uint8')\n",
    "    # plot raw pixel data\n",
    "    fig = pyplot.imshow(current_image)\n",
    "    #imwrite(fig, 'Post_Augmented_Raman_Pictures/1')\n",
    "    image.imsave('Post_Augmented_Raman_Pictures/' + str(i) + '.png', current_image)"
   ]
  },
  {
   "cell_type": "markdown",
   "metadata": {},
   "source": [
    "Citations: Parts of code taken from Machine Learning MAstery, by Jason Brownlee and programcreek.com"
   ]
  },
  {
   "cell_type": "code",
   "execution_count": 58,
   "metadata": {},
   "outputs": [],
   "source": [
    "def augmentation(name):\n",
    "    # load the image\n",
    "    img = load_img('Pre_Augmented_Raman_Pictures/' + name )\n",
    "    # convert to numpy array\n",
    "    data = img_to_array(img)\n",
    "    # expand dimension to one sample\n",
    "    samples = expand_dims(data, 0)\n",
    "    # create image data augmentation generator\n",
    "    datagen = ImageDataGenerator(zoom_range=[0.5,1.0])\n",
    "    # prepare iterator\n",
    "    it = datagen.flow(samples, batch_size=1)\n",
    "    # generate samples and plot\n",
    "    for i in range(9):\n",
    "        batch = it.next()\n",
    "        # convert to unsigned integers for viewing\n",
    "        current_image = batch[0].astype('uint8')\n",
    "        # plot raw pixel data\n",
    "        fig = pyplot.imshow(current_image)\n",
    "        #imwrite(fig, 'Post_Augmented_Raman_Pictures/1')\n",
    "        image.imsave('Post_Augmented_Raman_Pictures/' + str(i) + name  , current_image)"
   ]
  },
  {
   "cell_type": "code",
   "execution_count": 57,
   "metadata": {
    "scrolled": true
   },
   "outputs": [
    {
     "name": "stdout",
     "output_type": "stream",
     "text": [
      "20191004 Set3Sample3_10a 1_.txt_fluorescent.png\n",
      "20191004 Set3Sample3_11 5_.txt_polyethylene.png\n",
      "20191004 Set3Sample3_12 5_.txt_fluorescent.png\n",
      "20191004 Set3Sample3_2 1_.txt_unknown.png\n",
      "20191004 Set3Sample3_4 5_.txt_polyethylene.png\n",
      "20191004 Set3Sample3_5 5_.txt_polyethylene.png\n",
      "20191004 Set3Sample3_6 5_.txt_polyethylene.png\n",
      "20191004 Set3Sample3_7 5_.txt_polyethylene.png\n",
      "20191004 Set3Sample3_8 5_.txt_polyethylene.png\n",
      "20191004 Set3Sample3_9 5_.txt_polyethylene.png\n",
      "20191004 Set7Sample6_1 5_.txt_unknown.png\n",
      "20191004 Set7Sample6_10 0.txt_fluorescent.png\n",
      "20191004 Set7Sample6_8 1_.txt_fluorescent.png\n",
      "20191120 Set2Sample5a-1_.txt_nylon.png\n",
      "20191120 Set2Sample5b-1_.txt_nylon.png\n",
      "20191120 Set2Sample5c-1_.txt_nylon.png\n",
      "20191120 Set2Sample5e-1_.txt_nylon.png\n",
      "20191127 Set2Sample7a_1_.txt_fluorescent.png\n",
      "20191127 Set2Sample7b_0.txt_fluorescent.png\n",
      "20191127 Set2Sample7c_1_.txt_fluorescent.png\n",
      "20191127 Set2Sample7d_1_.txt_polyamide.png\n",
      "20191127 Set2Sample7t_1_.txt_polyamide.png\n",
      "20191127 Set2Sample7v_1_.txt_polyamide.png\n",
      "Set10Sample6_5 - 1_.txt_polyamide.png\n",
      "Set1Sample2_10 - 1_.txt_nylon.png\n",
      "Set1Sample2_19 - 1_.txt_nylon.png\n",
      "Set1Sample2_3 - 1_.txt_nylon.png\n",
      "Set1Sample2_7(dark_spot) - 1_.txt_nylon.png\n",
      "Set1Sample2_7(light_spot) - 1_.txt_nylon.png\n",
      "Set1Sample2_8 - 1_.txt_polyamide.png\n",
      "Set1Sample2_9 - 1_.txt_polyamide.png\n",
      "Set2Sample6_1 - 1_.txt_nylon.png\n",
      "Set2Sample6_1 1_.txt_fluorescent.png\n",
      "Set2Sample6_2 - 1_.txt_polyamide.png\n",
      "Set2Sample6_3 - 1_.txt_polyamide.png\n",
      "Set5Sample2_1 - 5_.txt_polyethylene.png\n",
      "Set5Sample2_2 - 5_.txt_polyethylene.png\n",
      "Set5Sample2_3 - 5_.txt_polyethylene.png\n",
      "Set5Sample2_4 - 5_.txt_polyamide.png\n",
      "Set5Sample2_5 - 1_.txt_fluorescent.png\n",
      "Set6Sample1_5 - 5_.txt_fluorescent.png\n",
      "Set7Sample6_1 - 5_.txt_polyethylene.png\n"
     ]
    }
   ],
   "source": [
    "with os.scandir('Pre_Augmented_Raman_Pictures') as entries:\n",
    "    for entry in entries:\n",
    "        name = entry.name\n",
    "        augmentation(name)\n",
    "        print(name)"
   ]
  },
  {
   "cell_type": "code",
   "execution_count": 2,
   "metadata": {},
   "outputs": [],
   "source": [
    "def full_augmentation(folder_name):\n",
    "    with os.scandir(folder_name) as entries:\n",
    "        for entry in entries:\n",
    "            name = entry.name\n",
    "            augmentation(name)\n",
    "            print(name)"
   ]
  },
  {
   "cell_type": "code",
   "execution_count": null,
   "metadata": {},
   "outputs": [],
   "source": []
  }
 ],
 "metadata": {
  "kernelspec": {
   "display_name": "Python 3",
   "language": "python",
   "name": "python3"
  },
  "language_info": {
   "codemirror_mode": {
    "name": "ipython",
    "version": 3
   },
   "file_extension": ".py",
   "mimetype": "text/x-python",
   "name": "python",
   "nbconvert_exporter": "python",
   "pygments_lexer": "ipython3",
   "version": "3.7.4"
  }
 },
 "nbformat": 4,
 "nbformat_minor": 2
}
